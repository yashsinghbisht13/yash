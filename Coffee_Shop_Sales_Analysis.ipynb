{
 "cells": [
  {
   "cell_type": "markdown",
   "id": "6659b109",
   "metadata": {},
   "source": [
    "# Retail orders Analysis Project"
   ]
  },
  {
   "cell_type": "code",
   "execution_count": 1,
   "id": "448b6747",
   "metadata": {},
   "outputs": [],
   "source": [
    "import pandas as pd\n",
    "import numpy as np\n",
    "import mysql.connector\n",
    "import matplotlib.pyplot as plt\n",
    "import seaborn as sns\n",
    "import os"
   ]
  },
  {
   "cell_type": "code",
   "execution_count": 2,
   "id": "313104d7",
   "metadata": {},
   "outputs": [],
   "source": [
    "# Connect to the MySQL database\n",
    "con = mysql.connector.connect(\n",
    "    host='localhost',\n",
    "    user='root',\n",
    "    password='@1234',\n",
    ")\n",
    "cur = con.cursor()\n",
    "q1=\"CREATE DATABASE IF NOT EXISTS order_analysis\"\n",
    "cur.execute(q1)\n",
    "cur.execute(\"USE order_analysis\")\n",
    "con.commit()"
   ]
  },
  {
   "cell_type": "markdown",
   "id": "ff5c1d12",
   "metadata": {},
   "source": [
    "Established a connection to MySQL and created/selected the order_analysis database for storing and querying retail order data."
   ]
  },
  {
   "cell_type": "code",
   "execution_count": null,
   "id": "70e34cc1",
   "metadata": {},
   "outputs": [],
   "source": [
    "import pandas as pd\n",
    "import numpy as np\n",
    "import mysql.connector\n",
    "import matplotlib.pyplot as plt\n",
    "import seaborn as sns\n",
    "\n",
    "# Read the Excel file\n",
    "df = pd.read_excel('Coffee Shop Sales.xlsx', sheet_name='Transactions')\n",
    "\n",
    "# Display basic info\n",
    "df.info()\n",
    "df.head()"
   ]
  },
  {
   "cell_type": "code",
   "execution_count": null,
   "id": "b24a3fc6",
   "metadata": {},
   "outputs": [],
   "source": [
    "# Clean column names\n",
    "df.columns = df.columns.str.strip().str.lower().str.replace(' ', '_')\n",
    "\n",
    "# Convert transaction_date to datetime\n",
    "df['transaction_date'] = pd.to_datetime(df['transaction_date'])\n",
    "\n",
    "# Create a new column for total_sales as unit_price * transaction_qty\n",
    "df['total_sales'] = df['unit_price'] * df['transaction_qty']\n",
    "\n",
    "# Drop any rows with missing critical data\n",
    "df.dropna(subset=['transaction_id', 'transaction_date', 'store_location', 'product_category'], inplace=True)\n",
    "\n",
    "df.head()"
   ]
  },
  {
   "cell_type": "code",
   "execution_count": 4,
   "id": "cd618ef0",
   "metadata": {},
   "outputs": [
    {
     "data": {
      "text/plain": [
       "array(['Second Class', 'Standard Class', 'Not Available', 'unknown',\n",
       "       'First Class', nan, 'Same Day'], dtype=object)"
      ]
     },
     "execution_count": 4,
     "metadata": {},
     "output_type": "execute_result"
    }
   ],
   "source": [
    "df['Ship Mode'].unique()"
   ]
  },
  {
   "cell_type": "code",
   "execution_count": 5,
   "id": "8411f6b2",
   "metadata": {},
   "outputs": [
    {
     "name": "stderr",
     "output_type": "stream",
     "text": [
      "C:\\Users\\drish\\AppData\\Local\\Temp\\ipykernel_21536\\3699944821.py:1: FutureWarning: A value is trying to be set on a copy of a DataFrame or Series through chained assignment using an inplace method.\n",
      "The behavior will change in pandas 3.0. This inplace method will never work because the intermediate object on which we are setting values always behaves as a copy.\n",
      "\n",
      "For example, when doing 'df[col].method(value, inplace=True)', try using 'df.method({col: value}, inplace=True)' or df[col] = df[col].method(value) instead, to perform the operation inplace on the original object.\n",
      "\n",
      "\n",
      "  df['Ship Mode'].replace(['Not Available','unknown'],np.nan, inplace=True)\n"
     ]
    },
    {
     "data": {
      "text/plain": [
       "array(['Second Class', 'Standard Class', nan, 'First Class', 'Same Day'],\n",
       "      dtype=object)"
      ]
     },
     "execution_count": 5,
     "metadata": {},
     "output_type": "execute_result"
    }
   ],
   "source": [
    "df['Ship Mode'].replace(['Not Available','unknown'],np.nan, inplace=True)\n",
    "\n",
    "df['Ship Mode'].unique()"
   ]
  },
  {
   "cell_type": "markdown",
   "id": "0ddfcf9d",
   "metadata": {},
   "source": [
    "Here, Replaced invalid or placeholder entries in the 'Ship Mode' column with NaN and confirmed cleanup by rechecking unique values."
   ]
  },
  {
   "cell_type": "code",
   "execution_count": 6,
   "id": "f724f215",
   "metadata": {},
   "outputs": [],
   "source": [
    "# rename columns names\n",
    "# make them lower case and replace space with underscore\n",
    "# df.rename(columns={'Order Id':'order_id','City':'city'},inplace=True)\n",
    "\n",
    "df.columns=df.columns.str.lower()\n",
    "df.columns=df.columns.str.replace(' ','_')"
   ]
  },
  {
   "cell_type": "code",
   "execution_count": 7,
   "id": "d6ff3d72",
   "metadata": {},
   "outputs": [
    {
     "data": {
      "text/html": [
       "<div>\n",
       "<style scoped>\n",
       "    .dataframe tbody tr th:only-of-type {\n",
       "        vertical-align: middle;\n",
       "    }\n",
       "\n",
       "    .dataframe tbody tr th {\n",
       "        vertical-align: top;\n",
       "    }\n",
       "\n",
       "    .dataframe thead th {\n",
       "        text-align: right;\n",
       "    }\n",
       "</style>\n",
       "<table border=\"1\" class=\"dataframe\">\n",
       "  <thead>\n",
       "    <tr style=\"text-align: right;\">\n",
       "      <th></th>\n",
       "      <th>order_id</th>\n",
       "      <th>order_date</th>\n",
       "      <th>ship_mode</th>\n",
       "      <th>segment</th>\n",
       "      <th>country</th>\n",
       "      <th>city</th>\n",
       "      <th>state</th>\n",
       "      <th>postal_code</th>\n",
       "      <th>region</th>\n",
       "      <th>category</th>\n",
       "      <th>sub_category</th>\n",
       "      <th>product_id</th>\n",
       "      <th>cost_price</th>\n",
       "      <th>list_price</th>\n",
       "      <th>quantity</th>\n",
       "      <th>discount_percent</th>\n",
       "    </tr>\n",
       "  </thead>\n",
       "  <tbody>\n",
       "    <tr>\n",
       "      <th>0</th>\n",
       "      <td>1</td>\n",
       "      <td>2023-03-01</td>\n",
       "      <td>Second Class</td>\n",
       "      <td>Consumer</td>\n",
       "      <td>United States</td>\n",
       "      <td>Henderson</td>\n",
       "      <td>Kentucky</td>\n",
       "      <td>42420</td>\n",
       "      <td>South</td>\n",
       "      <td>Furniture</td>\n",
       "      <td>Bookcases</td>\n",
       "      <td>FUR-BO-10001798</td>\n",
       "      <td>240</td>\n",
       "      <td>260</td>\n",
       "      <td>2</td>\n",
       "      <td>2</td>\n",
       "    </tr>\n",
       "    <tr>\n",
       "      <th>1</th>\n",
       "      <td>2</td>\n",
       "      <td>2023-08-15</td>\n",
       "      <td>Second Class</td>\n",
       "      <td>Consumer</td>\n",
       "      <td>United States</td>\n",
       "      <td>Henderson</td>\n",
       "      <td>Kentucky</td>\n",
       "      <td>42420</td>\n",
       "      <td>South</td>\n",
       "      <td>Furniture</td>\n",
       "      <td>Chairs</td>\n",
       "      <td>FUR-CH-10000454</td>\n",
       "      <td>600</td>\n",
       "      <td>730</td>\n",
       "      <td>3</td>\n",
       "      <td>3</td>\n",
       "    </tr>\n",
       "    <tr>\n",
       "      <th>2</th>\n",
       "      <td>3</td>\n",
       "      <td>2023-01-10</td>\n",
       "      <td>Second Class</td>\n",
       "      <td>Corporate</td>\n",
       "      <td>United States</td>\n",
       "      <td>Los Angeles</td>\n",
       "      <td>California</td>\n",
       "      <td>90036</td>\n",
       "      <td>West</td>\n",
       "      <td>Office Supplies</td>\n",
       "      <td>Labels</td>\n",
       "      <td>OFF-LA-10000240</td>\n",
       "      <td>10</td>\n",
       "      <td>10</td>\n",
       "      <td>2</td>\n",
       "      <td>5</td>\n",
       "    </tr>\n",
       "    <tr>\n",
       "      <th>3</th>\n",
       "      <td>4</td>\n",
       "      <td>2022-06-18</td>\n",
       "      <td>Standard Class</td>\n",
       "      <td>Consumer</td>\n",
       "      <td>United States</td>\n",
       "      <td>Fort Lauderdale</td>\n",
       "      <td>Florida</td>\n",
       "      <td>33311</td>\n",
       "      <td>South</td>\n",
       "      <td>Furniture</td>\n",
       "      <td>Tables</td>\n",
       "      <td>FUR-TA-10000577</td>\n",
       "      <td>780</td>\n",
       "      <td>960</td>\n",
       "      <td>5</td>\n",
       "      <td>2</td>\n",
       "    </tr>\n",
       "    <tr>\n",
       "      <th>4</th>\n",
       "      <td>5</td>\n",
       "      <td>2022-07-13</td>\n",
       "      <td>Standard Class</td>\n",
       "      <td>Consumer</td>\n",
       "      <td>United States</td>\n",
       "      <td>Fort Lauderdale</td>\n",
       "      <td>Florida</td>\n",
       "      <td>33311</td>\n",
       "      <td>South</td>\n",
       "      <td>Office Supplies</td>\n",
       "      <td>Storage</td>\n",
       "      <td>OFF-ST-10000760</td>\n",
       "      <td>20</td>\n",
       "      <td>20</td>\n",
       "      <td>2</td>\n",
       "      <td>5</td>\n",
       "    </tr>\n",
       "  </tbody>\n",
       "</table>\n",
       "</div>"
      ],
      "text/plain": [
       "   order_id  order_date       ship_mode    segment        country  \\\n",
       "0         1  2023-03-01    Second Class   Consumer  United States   \n",
       "1         2  2023-08-15    Second Class   Consumer  United States   \n",
       "2         3  2023-01-10    Second Class  Corporate  United States   \n",
       "3         4  2022-06-18  Standard Class   Consumer  United States   \n",
       "4         5  2022-07-13  Standard Class   Consumer  United States   \n",
       "\n",
       "              city       state  postal_code region         category  \\\n",
       "0        Henderson    Kentucky        42420  South        Furniture   \n",
       "1        Henderson    Kentucky        42420  South        Furniture   \n",
       "2      Los Angeles  California        90036   West  Office Supplies   \n",
       "3  Fort Lauderdale     Florida        33311  South        Furniture   \n",
       "4  Fort Lauderdale     Florida        33311  South  Office Supplies   \n",
       "\n",
       "  sub_category       product_id  cost_price  list_price  quantity  \\\n",
       "0    Bookcases  FUR-BO-10001798         240         260         2   \n",
       "1       Chairs  FUR-CH-10000454         600         730         3   \n",
       "2       Labels  OFF-LA-10000240          10          10         2   \n",
       "3       Tables  FUR-TA-10000577         780         960         5   \n",
       "4      Storage  OFF-ST-10000760          20          20         2   \n",
       "\n",
       "   discount_percent  \n",
       "0                 2  \n",
       "1                 3  \n",
       "2                 5  \n",
       "3                 2  \n",
       "4                 5  "
      ]
     },
     "execution_count": 7,
     "metadata": {},
     "output_type": "execute_result"
    }
   ],
   "source": [
    "df.head()"
   ]
  },
  {
   "cell_type": "code",
   "execution_count": null,
   "id": "b926626f",
   "metadata": {},
   "outputs": [
    {
     "data": {
      "text/plain": [
       "order_id                     int64\n",
       "order_date          datetime64[ns]\n",
       "ship_mode                   object\n",
       "segment                     object\n",
       "country                     object\n",
       "city                        object\n",
       "state                       object\n",
       "postal_code                  int64\n",
       "region                      object\n",
       "category                    object\n",
       "sub_category                object\n",
       "product_id                  object\n",
       "cost_price                   int64\n",
       "list_price                   int64\n",
       "quantity                     int64\n",
       "discount_percent             int64\n",
       "dtype: object"
      ]
     },
     "execution_count": 8,
     "metadata": {},
     "output_type": "execute_result"
    }
   ],
   "source": [
    "# Converted the 'order_date' column to datetime format for time-based analysis, and checked data types to validate conversion.\n",
    "df['order_date']=pd.to_datetime(df['order_date'],format=\"%Y-%m-%d\")\n",
    "df.dtypes"
   ]
  },
  {
   "cell_type": "code",
   "execution_count": 9,
   "id": "62c84e61",
   "metadata": {},
   "outputs": [],
   "source": [
    "# derive new columns discount, sale price and profit\n",
    "df['discount']=df['list_price']*df['discount_percent']*0.01\n",
    "\n",
    "df['sale_price']=df['list_price']-df['discount']\n",
    "\n",
    "df['profit']=df['sale_price']-df['cost_price']"
   ]
  },
  {
   "cell_type": "code",
   "execution_count": 10,
   "id": "c130dd5d",
   "metadata": {},
   "outputs": [],
   "source": [
    "# drop cost_price,list_price and discount percent column\n",
    "df.drop(columns=['cost_price','list_price','discount_percent'],inplace=True)"
   ]
  },
  {
   "cell_type": "code",
   "execution_count": 11,
   "id": "2cfe2d9a",
   "metadata": {},
   "outputs": [
    {
     "data": {
      "text/html": [
       "<div>\n",
       "<style scoped>\n",
       "    .dataframe tbody tr th:only-of-type {\n",
       "        vertical-align: middle;\n",
       "    }\n",
       "\n",
       "    .dataframe tbody tr th {\n",
       "        vertical-align: top;\n",
       "    }\n",
       "\n",
       "    .dataframe thead th {\n",
       "        text-align: right;\n",
       "    }\n",
       "</style>\n",
       "<table border=\"1\" class=\"dataframe\">\n",
       "  <thead>\n",
       "    <tr style=\"text-align: right;\">\n",
       "      <th></th>\n",
       "      <th>order_id</th>\n",
       "      <th>order_date</th>\n",
       "      <th>ship_mode</th>\n",
       "      <th>segment</th>\n",
       "      <th>country</th>\n",
       "      <th>city</th>\n",
       "      <th>state</th>\n",
       "      <th>postal_code</th>\n",
       "      <th>region</th>\n",
       "      <th>category</th>\n",
       "      <th>sub_category</th>\n",
       "      <th>product_id</th>\n",
       "      <th>quantity</th>\n",
       "      <th>discount</th>\n",
       "      <th>sale_price</th>\n",
       "      <th>profit</th>\n",
       "    </tr>\n",
       "  </thead>\n",
       "  <tbody>\n",
       "    <tr>\n",
       "      <th>0</th>\n",
       "      <td>1</td>\n",
       "      <td>2023-03-01</td>\n",
       "      <td>Second Class</td>\n",
       "      <td>Consumer</td>\n",
       "      <td>United States</td>\n",
       "      <td>Henderson</td>\n",
       "      <td>Kentucky</td>\n",
       "      <td>42420</td>\n",
       "      <td>South</td>\n",
       "      <td>Furniture</td>\n",
       "      <td>Bookcases</td>\n",
       "      <td>FUR-BO-10001798</td>\n",
       "      <td>2</td>\n",
       "      <td>5.2</td>\n",
       "      <td>254.8</td>\n",
       "      <td>14.8</td>\n",
       "    </tr>\n",
       "    <tr>\n",
       "      <th>1</th>\n",
       "      <td>2</td>\n",
       "      <td>2023-08-15</td>\n",
       "      <td>Second Class</td>\n",
       "      <td>Consumer</td>\n",
       "      <td>United States</td>\n",
       "      <td>Henderson</td>\n",
       "      <td>Kentucky</td>\n",
       "      <td>42420</td>\n",
       "      <td>South</td>\n",
       "      <td>Furniture</td>\n",
       "      <td>Chairs</td>\n",
       "      <td>FUR-CH-10000454</td>\n",
       "      <td>3</td>\n",
       "      <td>21.9</td>\n",
       "      <td>708.1</td>\n",
       "      <td>108.1</td>\n",
       "    </tr>\n",
       "    <tr>\n",
       "      <th>2</th>\n",
       "      <td>3</td>\n",
       "      <td>2023-01-10</td>\n",
       "      <td>Second Class</td>\n",
       "      <td>Corporate</td>\n",
       "      <td>United States</td>\n",
       "      <td>Los Angeles</td>\n",
       "      <td>California</td>\n",
       "      <td>90036</td>\n",
       "      <td>West</td>\n",
       "      <td>Office Supplies</td>\n",
       "      <td>Labels</td>\n",
       "      <td>OFF-LA-10000240</td>\n",
       "      <td>2</td>\n",
       "      <td>0.5</td>\n",
       "      <td>9.5</td>\n",
       "      <td>-0.5</td>\n",
       "    </tr>\n",
       "    <tr>\n",
       "      <th>3</th>\n",
       "      <td>4</td>\n",
       "      <td>2022-06-18</td>\n",
       "      <td>Standard Class</td>\n",
       "      <td>Consumer</td>\n",
       "      <td>United States</td>\n",
       "      <td>Fort Lauderdale</td>\n",
       "      <td>Florida</td>\n",
       "      <td>33311</td>\n",
       "      <td>South</td>\n",
       "      <td>Furniture</td>\n",
       "      <td>Tables</td>\n",
       "      <td>FUR-TA-10000577</td>\n",
       "      <td>5</td>\n",
       "      <td>19.2</td>\n",
       "      <td>940.8</td>\n",
       "      <td>160.8</td>\n",
       "    </tr>\n",
       "    <tr>\n",
       "      <th>4</th>\n",
       "      <td>5</td>\n",
       "      <td>2022-07-13</td>\n",
       "      <td>Standard Class</td>\n",
       "      <td>Consumer</td>\n",
       "      <td>United States</td>\n",
       "      <td>Fort Lauderdale</td>\n",
       "      <td>Florida</td>\n",
       "      <td>33311</td>\n",
       "      <td>South</td>\n",
       "      <td>Office Supplies</td>\n",
       "      <td>Storage</td>\n",
       "      <td>OFF-ST-10000760</td>\n",
       "      <td>2</td>\n",
       "      <td>1.0</td>\n",
       "      <td>19.0</td>\n",
       "      <td>-1.0</td>\n",
       "    </tr>\n",
       "  </tbody>\n",
       "</table>\n",
       "</div>"
      ],
      "text/plain": [
       "   order_id order_date       ship_mode    segment        country  \\\n",
       "0         1 2023-03-01    Second Class   Consumer  United States   \n",
       "1         2 2023-08-15    Second Class   Consumer  United States   \n",
       "2         3 2023-01-10    Second Class  Corporate  United States   \n",
       "3         4 2022-06-18  Standard Class   Consumer  United States   \n",
       "4         5 2022-07-13  Standard Class   Consumer  United States   \n",
       "\n",
       "              city       state  postal_code region         category  \\\n",
       "0        Henderson    Kentucky        42420  South        Furniture   \n",
       "1        Henderson    Kentucky        42420  South        Furniture   \n",
       "2      Los Angeles  California        90036   West  Office Supplies   \n",
       "3  Fort Lauderdale     Florida        33311  South        Furniture   \n",
       "4  Fort Lauderdale     Florida        33311  South  Office Supplies   \n",
       "\n",
       "  sub_category       product_id  quantity  discount  sale_price  profit  \n",
       "0    Bookcases  FUR-BO-10001798         2       5.2       254.8    14.8  \n",
       "1       Chairs  FUR-CH-10000454         3      21.9       708.1   108.1  \n",
       "2       Labels  OFF-LA-10000240         2       0.5         9.5    -0.5  \n",
       "3       Tables  FUR-TA-10000577         5      19.2       940.8   160.8  \n",
       "4      Storage  OFF-ST-10000760         2       1.0        19.0    -1.0  "
      ]
     },
     "execution_count": 11,
     "metadata": {},
     "output_type": "execute_result"
    }
   ],
   "source": [
    "df.head()"
   ]
  },
  {
   "cell_type": "markdown",
   "id": "f3a7b628",
   "metadata": {},
   "source": [
    "Define a helper function to dynamically map Pandas data types to appropriate MySQL data types for table creation."
   ]
  },
  {
   "cell_type": "code",
   "execution_count": 12,
   "id": "88dec8f3",
   "metadata": {},
   "outputs": [],
   "source": [
    "def get_sql_type(dtype):\n",
    "    if pd.api.types.is_integer_dtype(dtype):\n",
    "        return 'INT'\n",
    "    elif pd.api.types.is_float_dtype(dtype):\n",
    "        return 'FLOAT'\n",
    "    elif pd.api.types.is_bool_dtype(dtype):\n",
    "        return 'BOOLEAN'\n",
    "    elif pd.api.types.is_datetime64_any_dtype(dtype):\n",
    "        return 'DATETIME'\n",
    "    else:\n",
    "        return 'TEXT'"
   ]
  },
  {
   "cell_type": "code",
   "execution_count": 13,
   "id": "b0b6b5ec",
   "metadata": {},
   "outputs": [],
   "source": [
    "# Set table name\n",
    "table_name = 'order_table'"
   ]
  },
  {
   "cell_type": "code",
   "execution_count": 14,
   "id": "34a86e6a",
   "metadata": {},
   "outputs": [],
   "source": [
    "# Generate CREATE TABLE query\n",
    "columns = ', '.join([f'`{col}` {get_sql_type(df[col].dtype)}' for col in df.columns])\n",
    "create_table_query = f'CREATE TABLE IF NOT EXISTS `{table_name}` ({columns})'\n",
    "cur.execute(create_table_query)\n",
    "con.commit()"
   ]
  },
  {
   "cell_type": "code",
   "execution_count": 15,
   "id": "c2e4da99",
   "metadata": {},
   "outputs": [],
   "source": [
    "# Insert each row into the table\n",
    "for _, row in df.iterrows():\n",
    "    values = tuple(None if pd.isna(x) else x for x in row)\n",
    "    placeholders = ', '.join(['%s'] * len(row))\n",
    "    insert_query = f\"INSERT INTO `{table_name}` ({', '.join([f'`{col}`' for col in df.columns])}) VALUES ({placeholders})\"\n",
    "    cur.execute(insert_query, values)"
   ]
  },
  {
   "cell_type": "code",
   "execution_count": 16,
   "id": "25760c37",
   "metadata": {},
   "outputs": [],
   "source": [
    "# Commit and close connection\n",
    "con.commit()\n",
    "# cur.close()\n",
    "# con.close()\n",
    "\n",
    "# print(f\" Data inserted into MySQL table '{table_name}' successfully.\")"
   ]
  },
  {
   "cell_type": "code",
   "execution_count": 17,
   "id": "39d175e4",
   "metadata": {},
   "outputs": [
    {
     "name": "stdout",
     "output_type": "stream",
     "text": [
      "<class 'pandas.core.frame.DataFrame'>\n",
      "RangeIndex: 9994 entries, 0 to 9993\n",
      "Data columns (total 16 columns):\n",
      " #   Column        Non-Null Count  Dtype         \n",
      "---  ------        --------------  -----         \n",
      " 0   order_id      9994 non-null   int64         \n",
      " 1   order_date    9994 non-null   datetime64[ns]\n",
      " 2   ship_mode     9988 non-null   object        \n",
      " 3   segment       9994 non-null   object        \n",
      " 4   country       9994 non-null   object        \n",
      " 5   city          9994 non-null   object        \n",
      " 6   state         9994 non-null   object        \n",
      " 7   postal_code   9994 non-null   int64         \n",
      " 8   region        9994 non-null   object        \n",
      " 9   category      9994 non-null   object        \n",
      " 10  sub_category  9994 non-null   object        \n",
      " 11  product_id    9994 non-null   object        \n",
      " 12  quantity      9994 non-null   int64         \n",
      " 13  discount      9994 non-null   float64       \n",
      " 14  sale_price    9994 non-null   float64       \n",
      " 15  profit        9994 non-null   float64       \n",
      "dtypes: datetime64[ns](1), float64(3), int64(3), object(9)\n",
      "memory usage: 1.2+ MB\n"
     ]
    }
   ],
   "source": [
    "df.info()"
   ]
  },
  {
   "cell_type": "code",
   "execution_count": 42,
   "id": "dde3f954",
   "metadata": {},
   "outputs": [],
   "source": [
    "df.to_csv('retail_orders_output2.csv', index=False)"
   ]
  },
  {
   "cell_type": "markdown",
   "id": "1f677685",
   "metadata": {},
   "source": [
    "Exported the cleaned and processed dataset to a new CSV file for backup or external analysis."
   ]
  },
  {
   "cell_type": "code",
   "execution_count": null,
   "id": "e85c08db",
   "metadata": {},
   "outputs": [
    {
     "name": "stderr",
     "output_type": "stream",
     "text": [
      "C:\\Users\\drish\\AppData\\Local\\Temp\\ipykernel_30576\\3609944797.py:3: UserWarning: pandas only supports SQLAlchemy connectable (engine/connection) or database string URI or sqlite3 DBAPI2 connection. Other DBAPI2 objects are not tested. Please consider using SQLAlchemy.\n",
      "  d = pd.read_sql(query, con)  # Load directly into a DataFrame\n"
     ]
    },
    {
     "data": {
      "text/html": [
       "<div>\n",
       "<style scoped>\n",
       "    .dataframe tbody tr th:only-of-type {\n",
       "        vertical-align: middle;\n",
       "    }\n",
       "\n",
       "    .dataframe tbody tr th {\n",
       "        vertical-align: top;\n",
       "    }\n",
       "\n",
       "    .dataframe thead th {\n",
       "        text-align: right;\n",
       "    }\n",
       "</style>\n",
       "<table border=\"1\" class=\"dataframe\">\n",
       "  <thead>\n",
       "    <tr style=\"text-align: right;\">\n",
       "      <th></th>\n",
       "      <th>order_id</th>\n",
       "      <th>order_date</th>\n",
       "      <th>ship_mode</th>\n",
       "      <th>segment</th>\n",
       "      <th>country</th>\n",
       "      <th>city</th>\n",
       "      <th>state</th>\n",
       "      <th>postal_code</th>\n",
       "      <th>region</th>\n",
       "      <th>category</th>\n",
       "      <th>sub_category</th>\n",
       "      <th>product_id</th>\n",
       "      <th>quantity</th>\n",
       "      <th>discount</th>\n",
       "      <th>sale_price</th>\n",
       "      <th>profit</th>\n",
       "    </tr>\n",
       "  </thead>\n",
       "  <tbody>\n",
       "    <tr>\n",
       "      <th>0</th>\n",
       "      <td>1</td>\n",
       "      <td>2023-03-01</td>\n",
       "      <td>Second Class</td>\n",
       "      <td>Consumer</td>\n",
       "      <td>United States</td>\n",
       "      <td>Henderson</td>\n",
       "      <td>Kentucky</td>\n",
       "      <td>42420</td>\n",
       "      <td>South</td>\n",
       "      <td>Furniture</td>\n",
       "      <td>Bookcases</td>\n",
       "      <td>FUR-BO-10001798</td>\n",
       "      <td>2</td>\n",
       "      <td>5.2</td>\n",
       "      <td>254.8</td>\n",
       "      <td>14.8</td>\n",
       "    </tr>\n",
       "    <tr>\n",
       "      <th>1</th>\n",
       "      <td>2</td>\n",
       "      <td>2023-08-15</td>\n",
       "      <td>Second Class</td>\n",
       "      <td>Consumer</td>\n",
       "      <td>United States</td>\n",
       "      <td>Henderson</td>\n",
       "      <td>Kentucky</td>\n",
       "      <td>42420</td>\n",
       "      <td>South</td>\n",
       "      <td>Furniture</td>\n",
       "      <td>Chairs</td>\n",
       "      <td>FUR-CH-10000454</td>\n",
       "      <td>3</td>\n",
       "      <td>21.9</td>\n",
       "      <td>708.1</td>\n",
       "      <td>108.1</td>\n",
       "    </tr>\n",
       "    <tr>\n",
       "      <th>2</th>\n",
       "      <td>3</td>\n",
       "      <td>2023-01-10</td>\n",
       "      <td>Second Class</td>\n",
       "      <td>Corporate</td>\n",
       "      <td>United States</td>\n",
       "      <td>Los Angeles</td>\n",
       "      <td>California</td>\n",
       "      <td>90036</td>\n",
       "      <td>West</td>\n",
       "      <td>Office Supplies</td>\n",
       "      <td>Labels</td>\n",
       "      <td>OFF-LA-10000240</td>\n",
       "      <td>2</td>\n",
       "      <td>0.5</td>\n",
       "      <td>9.5</td>\n",
       "      <td>-0.5</td>\n",
       "    </tr>\n",
       "    <tr>\n",
       "      <th>3</th>\n",
       "      <td>4</td>\n",
       "      <td>2022-06-18</td>\n",
       "      <td>Standard Class</td>\n",
       "      <td>Consumer</td>\n",
       "      <td>United States</td>\n",
       "      <td>Fort Lauderdale</td>\n",
       "      <td>Florida</td>\n",
       "      <td>33311</td>\n",
       "      <td>South</td>\n",
       "      <td>Furniture</td>\n",
       "      <td>Tables</td>\n",
       "      <td>FUR-TA-10000577</td>\n",
       "      <td>5</td>\n",
       "      <td>19.2</td>\n",
       "      <td>940.8</td>\n",
       "      <td>160.8</td>\n",
       "    </tr>\n",
       "    <tr>\n",
       "      <th>4</th>\n",
       "      <td>5</td>\n",
       "      <td>2022-07-13</td>\n",
       "      <td>Standard Class</td>\n",
       "      <td>Consumer</td>\n",
       "      <td>United States</td>\n",
       "      <td>Fort Lauderdale</td>\n",
       "      <td>Florida</td>\n",
       "      <td>33311</td>\n",
       "      <td>South</td>\n",
       "      <td>Office Supplies</td>\n",
       "      <td>Storage</td>\n",
       "      <td>OFF-ST-10000760</td>\n",
       "      <td>2</td>\n",
       "      <td>1.0</td>\n",
       "      <td>19.0</td>\n",
       "      <td>-1.0</td>\n",
       "    </tr>\n",
       "  </tbody>\n",
       "</table>\n",
       "</div>"
      ],
      "text/plain": [
       "   order_id order_date       ship_mode    segment        country  \\\n",
       "0         1 2023-03-01    Second Class   Consumer  United States   \n",
       "1         2 2023-08-15    Second Class   Consumer  United States   \n",
       "2         3 2023-01-10    Second Class  Corporate  United States   \n",
       "3         4 2022-06-18  Standard Class   Consumer  United States   \n",
       "4         5 2022-07-13  Standard Class   Consumer  United States   \n",
       "\n",
       "              city       state  postal_code region         category  \\\n",
       "0        Henderson    Kentucky        42420  South        Furniture   \n",
       "1        Henderson    Kentucky        42420  South        Furniture   \n",
       "2      Los Angeles  California        90036   West  Office Supplies   \n",
       "3  Fort Lauderdale     Florida        33311  South        Furniture   \n",
       "4  Fort Lauderdale     Florida        33311  South  Office Supplies   \n",
       "\n",
       "  sub_category       product_id  quantity  discount  sale_price  profit  \n",
       "0    Bookcases  FUR-BO-10001798         2       5.2       254.8    14.8  \n",
       "1       Chairs  FUR-CH-10000454         3      21.9       708.1   108.1  \n",
       "2       Labels  OFF-LA-10000240         2       0.5         9.5    -0.5  \n",
       "3       Tables  FUR-TA-10000577         5      19.2       940.8   160.8  \n",
       "4      Storage  OFF-ST-10000760         2       1.0        19.0    -1.0  "
      ]
     },
     "execution_count": 19,
     "metadata": {},
     "output_type": "execute_result"
    }
   ],
   "source": [
    "# Create a cursor and execute the query\n",
    "query = \"SELECT * FROM order_table;\"\n",
    "d = pd.read_sql(query, con)  # Load directly into a DataFrame\n",
    "\n",
    "# Display the result\n",
    "d.head()"
   ]
  },
  {
   "cell_type": "code",
   "execution_count": null,
   "id": "e08b3024",
   "metadata": {},
   "outputs": [],
   "source": []
  },
  {
   "cell_type": "markdown",
   "id": "9b4ce74e",
   "metadata": {},
   "source": [
    "# Queries"
   ]
  },
  {
   "cell_type": "markdown",
   "id": "6e18af66",
   "metadata": {},
   "source": [
    "1.How many total orders are there in the dataset?"
   ]
  },
  {
   "cell_type": "code",
   "execution_count": null,
   "id": "d67bf19b",
   "metadata": {},
   "outputs": [
    {
     "name": "stdout",
     "output_type": "stream",
     "text": [
      "Total Orders: 39976\n"
     ]
    }
   ],
   "source": [
    "# SQL query to count total orders\n",
    "query = \"SELECT COUNT(*) AS total_orders FROM order_table;\"\n",
    "cur.execute(query)\n",
    "\n",
    "# Fetch and print result\n",
    "total_orders = cur.fetchone()[0]\n",
    "print(\"Total Orders:\", total_orders)"
   ]
  },
  {
   "cell_type": "markdown",
   "id": "2380c6b9",
   "metadata": {},
   "source": [
    "2.What is the total revenue generated from all orders?"
   ]
  },
  {
   "cell_type": "code",
   "execution_count": null,
   "id": "9d5c6501",
   "metadata": {},
   "outputs": [
    {
     "name": "stdout",
     "output_type": "stream",
     "text": [
      "Total Revenue: 8863434.796337128\n"
     ]
    }
   ],
   "source": [
    "# SQL query to calculate total revenue\n",
    "query = \"SELECT SUM(sale_price) AS total_revenue FROM order_table;\"\n",
    "cur.execute(query)\n",
    "\n",
    "# Fetch and print result\n",
    "total_revenue = cur.fetchone()[0]\n",
    "print(\"Total Revenue:\", total_revenue)"
   ]
  },
  {
   "cell_type": "markdown",
   "id": "fdce6946",
   "metadata": {},
   "source": [
    "Calculated the total revenue by summing the sale_price of all orders. This gives insight into the overall business performance.\n",
    "\n"
   ]
  },
  {
   "cell_type": "markdown",
   "id": "8d6b26ad",
   "metadata": {},
   "source": [
    "3.How many orders have been placed in each product category?"
   ]
  },
  {
   "cell_type": "code",
   "execution_count": null,
   "id": "0031b047",
   "metadata": {},
   "outputs": [
    {
     "data": {
      "text/html": [
       "<div>\n",
       "<style scoped>\n",
       "    .dataframe tbody tr th:only-of-type {\n",
       "        vertical-align: middle;\n",
       "    }\n",
       "\n",
       "    .dataframe tbody tr th {\n",
       "        vertical-align: top;\n",
       "    }\n",
       "\n",
       "    .dataframe thead th {\n",
       "        text-align: right;\n",
       "    }\n",
       "</style>\n",
       "<table border=\"1\" class=\"dataframe\">\n",
       "  <thead>\n",
       "    <tr style=\"text-align: right;\">\n",
       "      <th></th>\n",
       "      <th>Category</th>\n",
       "      <th>total order</th>\n",
       "    </tr>\n",
       "  </thead>\n",
       "  <tbody>\n",
       "    <tr>\n",
       "      <th>0</th>\n",
       "      <td>Furniture</td>\n",
       "      <td>8484</td>\n",
       "    </tr>\n",
       "    <tr>\n",
       "      <th>1</th>\n",
       "      <td>Office Supplies</td>\n",
       "      <td>24104</td>\n",
       "    </tr>\n",
       "    <tr>\n",
       "      <th>2</th>\n",
       "      <td>Technology</td>\n",
       "      <td>7388</td>\n",
       "    </tr>\n",
       "  </tbody>\n",
       "</table>\n",
       "</div>"
      ],
      "text/plain": [
       "          Category  total order\n",
       "0        Furniture         8484\n",
       "1  Office Supplies        24104\n",
       "2       Technology         7388"
      ]
     },
     "execution_count": 21,
     "metadata": {},
     "output_type": "execute_result"
    }
   ],
   "source": [
    "# Define query\n",
    "query = \"\"\"\n",
    "SELECT Category, COUNT(*) AS total_orders\n",
    "FROM order_table\n",
    "GROUP BY Category;\n",
    "\"\"\"\n",
    "\n",
    "cur.execute(query)\n",
    "data = cur.fetchall()\n",
    "d = pd.DataFrame(data, columns=(\"Category\", \"total order\"))\n",
    "d\n"
   ]
  },
  {
   "cell_type": "markdown",
   "id": "8a74a42a",
   "metadata": {},
   "source": [
    "Retrieved the number of orders per product category. This helps identify which categories are most and least popular among customers."
   ]
  },
  {
   "cell_type": "code",
   "execution_count": null,
   "id": "8a4f6630",
   "metadata": {},
   "outputs": [],
   "source": []
  },
  {
   "cell_type": "markdown",
   "id": "dcd4819b",
   "metadata": {},
   "source": [
    "What is the monthly sales trend over time?"
   ]
  },
  {
   "cell_type": "code",
   "execution_count": null,
   "id": "ff25b4b1",
   "metadata": {},
   "outputs": [
    {
     "data": {
      "text/html": [
       "<div>\n",
       "<style scoped>\n",
       "    .dataframe tbody tr th:only-of-type {\n",
       "        vertical-align: middle;\n",
       "    }\n",
       "\n",
       "    .dataframe tbody tr th {\n",
       "        vertical-align: top;\n",
       "    }\n",
       "\n",
       "    .dataframe thead th {\n",
       "        text-align: right;\n",
       "    }\n",
       "</style>\n",
       "<table border=\"1\" class=\"dataframe\">\n",
       "  <thead>\n",
       "    <tr style=\"text-align: right;\">\n",
       "      <th></th>\n",
       "      <th>Month</th>\n",
       "      <th>Monthly Sales</th>\n",
       "    </tr>\n",
       "  </thead>\n",
       "  <tbody>\n",
       "    <tr>\n",
       "      <th>0</th>\n",
       "      <td>2022-01</td>\n",
       "      <td>378849.999840</td>\n",
       "    </tr>\n",
       "    <tr>\n",
       "      <th>1</th>\n",
       "      <td>2022-02</td>\n",
       "      <td>360363.999695</td>\n",
       "    </tr>\n",
       "    <tr>\n",
       "      <th>2</th>\n",
       "      <td>2022-03</td>\n",
       "      <td>320423.999969</td>\n",
       "    </tr>\n",
       "    <tr>\n",
       "      <th>3</th>\n",
       "      <td>2022-04</td>\n",
       "      <td>381806.400478</td>\n",
       "    </tr>\n",
       "    <tr>\n",
       "      <th>4</th>\n",
       "      <td>2022-05</td>\n",
       "      <td>317793.200996</td>\n",
       "    </tr>\n",
       "    <tr>\n",
       "      <th>5</th>\n",
       "      <td>2022-06</td>\n",
       "      <td>376681.999123</td>\n",
       "    </tr>\n",
       "    <tr>\n",
       "      <th>6</th>\n",
       "      <td>2022-07</td>\n",
       "      <td>314608.799240</td>\n",
       "    </tr>\n",
       "    <tr>\n",
       "      <th>7</th>\n",
       "      <td>2022-08</td>\n",
       "      <td>419231.998890</td>\n",
       "    </tr>\n",
       "    <tr>\n",
       "      <th>8</th>\n",
       "      <td>2022-09</td>\n",
       "      <td>316568.799877</td>\n",
       "    </tr>\n",
       "    <tr>\n",
       "      <th>9</th>\n",
       "      <td>2022-10</td>\n",
       "      <td>475650.799904</td>\n",
       "    </tr>\n",
       "    <tr>\n",
       "      <th>10</th>\n",
       "      <td>2022-11</td>\n",
       "      <td>336901.200264</td>\n",
       "    </tr>\n",
       "    <tr>\n",
       "      <th>11</th>\n",
       "      <td>2022-12</td>\n",
       "      <td>383479.599796</td>\n",
       "    </tr>\n",
       "    <tr>\n",
       "      <th>12</th>\n",
       "      <td>2023-01</td>\n",
       "      <td>354530.399696</td>\n",
       "    </tr>\n",
       "    <tr>\n",
       "      <th>13</th>\n",
       "      <td>2023-02</td>\n",
       "      <td>512496.798607</td>\n",
       "    </tr>\n",
       "    <tr>\n",
       "      <th>14</th>\n",
       "      <td>2023-03</td>\n",
       "      <td>330049.200108</td>\n",
       "    </tr>\n",
       "    <tr>\n",
       "      <th>15</th>\n",
       "      <td>2023-04</td>\n",
       "      <td>446274.399029</td>\n",
       "    </tr>\n",
       "    <tr>\n",
       "      <th>16</th>\n",
       "      <td>2023-05</td>\n",
       "      <td>345791.600163</td>\n",
       "    </tr>\n",
       "    <tr>\n",
       "      <th>17</th>\n",
       "      <td>2023-06</td>\n",
       "      <td>275905.999722</td>\n",
       "    </tr>\n",
       "    <tr>\n",
       "      <th>18</th>\n",
       "      <td>2023-07</td>\n",
       "      <td>362255.198868</td>\n",
       "    </tr>\n",
       "    <tr>\n",
       "      <th>19</th>\n",
       "      <td>2023-08</td>\n",
       "      <td>350934.399933</td>\n",
       "    </tr>\n",
       "    <tr>\n",
       "      <th>20</th>\n",
       "      <td>2023-09</td>\n",
       "      <td>306634.400139</td>\n",
       "    </tr>\n",
       "    <tr>\n",
       "      <th>21</th>\n",
       "      <td>2023-10</td>\n",
       "      <td>484246.000195</td>\n",
       "    </tr>\n",
       "    <tr>\n",
       "      <th>22</th>\n",
       "      <td>2023-11</td>\n",
       "      <td>301731.201092</td>\n",
       "    </tr>\n",
       "    <tr>\n",
       "      <th>23</th>\n",
       "      <td>2023-12</td>\n",
       "      <td>410224.400715</td>\n",
       "    </tr>\n",
       "  </tbody>\n",
       "</table>\n",
       "</div>"
      ],
      "text/plain": [
       "      Month  Monthly Sales\n",
       "0   2022-01  378849.999840\n",
       "1   2022-02  360363.999695\n",
       "2   2022-03  320423.999969\n",
       "3   2022-04  381806.400478\n",
       "4   2022-05  317793.200996\n",
       "5   2022-06  376681.999123\n",
       "6   2022-07  314608.799240\n",
       "7   2022-08  419231.998890\n",
       "8   2022-09  316568.799877\n",
       "9   2022-10  475650.799904\n",
       "10  2022-11  336901.200264\n",
       "11  2022-12  383479.599796\n",
       "12  2023-01  354530.399696\n",
       "13  2023-02  512496.798607\n",
       "14  2023-03  330049.200108\n",
       "15  2023-04  446274.399029\n",
       "16  2023-05  345791.600163\n",
       "17  2023-06  275905.999722\n",
       "18  2023-07  362255.198868\n",
       "19  2023-08  350934.399933\n",
       "20  2023-09  306634.400139\n",
       "21  2023-10  484246.000195\n",
       "22  2023-11  301731.201092\n",
       "23  2023-12  410224.400715"
      ]
     },
     "execution_count": 22,
     "metadata": {},
     "output_type": "execute_result"
    }
   ],
   "source": [
    "# SQL query for monthly sales trend\n",
    "query = \"\"\"\n",
    "SELECT DATE_FORMAT(Order_Date, '%Y-%m') AS month, SUM(sale_price) AS monthly_sales\n",
    "FROM order_table\n",
    "GROUP BY month\n",
    "ORDER BY month;\n",
    "\"\"\"\n",
    "\n",
    "cur.execute(query)\n",
    "data = cur.fetchall()\n",
    "\n",
    "# Create DataFrame from fetched data\n",
    "d = pd.DataFrame(data, columns=[\"Month\", \"Monthly Sales\"])\n",
    "d"
   ]
  },
  {
   "cell_type": "markdown",
   "id": "efced5f8",
   "metadata": {},
   "source": [
    "Analyzed monthly sales trends over time by aggregating revenue per month. This helps identify seasonality or growth patterns in sales."
   ]
  },
  {
   "cell_type": "markdown",
   "id": "9a894b7d",
   "metadata": {},
   "source": [
    "How many orders were placed on each day?"
   ]
  },
  {
   "cell_type": "code",
   "execution_count": 19,
   "id": "1c333667",
   "metadata": {},
   "outputs": [
    {
     "data": {
      "text/html": [
       "<div>\n",
       "<style scoped>\n",
       "    .dataframe tbody tr th:only-of-type {\n",
       "        vertical-align: middle;\n",
       "    }\n",
       "\n",
       "    .dataframe tbody tr th {\n",
       "        vertical-align: top;\n",
       "    }\n",
       "\n",
       "    .dataframe thead th {\n",
       "        text-align: right;\n",
       "    }\n",
       "</style>\n",
       "<table border=\"1\" class=\"dataframe\">\n",
       "  <thead>\n",
       "    <tr style=\"text-align: right;\">\n",
       "      <th></th>\n",
       "      <th>Order Date</th>\n",
       "      <th>Order Count</th>\n",
       "    </tr>\n",
       "  </thead>\n",
       "  <tbody>\n",
       "    <tr>\n",
       "      <th>0</th>\n",
       "      <td>2022-01-01</td>\n",
       "      <td>80</td>\n",
       "    </tr>\n",
       "    <tr>\n",
       "      <th>1</th>\n",
       "      <td>2022-01-02</td>\n",
       "      <td>85</td>\n",
       "    </tr>\n",
       "    <tr>\n",
       "      <th>2</th>\n",
       "      <td>2022-01-03</td>\n",
       "      <td>80</td>\n",
       "    </tr>\n",
       "    <tr>\n",
       "      <th>3</th>\n",
       "      <td>2022-01-04</td>\n",
       "      <td>105</td>\n",
       "    </tr>\n",
       "    <tr>\n",
       "      <th>4</th>\n",
       "      <td>2022-01-05</td>\n",
       "      <td>65</td>\n",
       "    </tr>\n",
       "    <tr>\n",
       "      <th>...</th>\n",
       "      <td>...</td>\n",
       "      <td>...</td>\n",
       "    </tr>\n",
       "    <tr>\n",
       "      <th>725</th>\n",
       "      <td>2023-12-27</td>\n",
       "      <td>35</td>\n",
       "    </tr>\n",
       "    <tr>\n",
       "      <th>726</th>\n",
       "      <td>2023-12-28</td>\n",
       "      <td>75</td>\n",
       "    </tr>\n",
       "    <tr>\n",
       "      <th>727</th>\n",
       "      <td>2023-12-29</td>\n",
       "      <td>85</td>\n",
       "    </tr>\n",
       "    <tr>\n",
       "      <th>728</th>\n",
       "      <td>2023-12-30</td>\n",
       "      <td>90</td>\n",
       "    </tr>\n",
       "    <tr>\n",
       "      <th>729</th>\n",
       "      <td>2023-12-31</td>\n",
       "      <td>60</td>\n",
       "    </tr>\n",
       "  </tbody>\n",
       "</table>\n",
       "<p>730 rows × 2 columns</p>\n",
       "</div>"
      ],
      "text/plain": [
       "    Order Date  Order Count\n",
       "0   2022-01-01           80\n",
       "1   2022-01-02           85\n",
       "2   2022-01-03           80\n",
       "3   2022-01-04          105\n",
       "4   2022-01-05           65\n",
       "..         ...          ...\n",
       "725 2023-12-27           35\n",
       "726 2023-12-28           75\n",
       "727 2023-12-29           85\n",
       "728 2023-12-30           90\n",
       "729 2023-12-31           60\n",
       "\n",
       "[730 rows x 2 columns]"
      ]
     },
     "execution_count": 19,
     "metadata": {},
     "output_type": "execute_result"
    }
   ],
   "source": [
    "# SQL query to count orders by day\n",
    "query = \"\"\"\n",
    "SELECT Order_Date, COUNT(*) AS order_count\n",
    "FROM order_table\n",
    "GROUP BY Order_Date\n",
    "ORDER BY Order_Date;\n",
    "\"\"\"\n",
    "\n",
    "cur.execute(query)\n",
    "data = cur.fetchall()\n",
    "\n",
    "# Create DataFrame\n",
    "d = pd.DataFrame(data, columns=[\"Order Date\", \"Order Count\"])\n",
    "d\n"
   ]
  },
  {
   "cell_type": "markdown",
   "id": "205167a1",
   "metadata": {},
   "source": [
    "Analyzed daily order volume to identify high-activity days and possible fluctuations in customer purchase behavior over time."
   ]
  },
  {
   "cell_type": "markdown",
   "id": "c5bf0618",
   "metadata": {},
   "source": [
    "Which 5 cities have generated the highest revenue?"
   ]
  },
  {
   "cell_type": "code",
   "execution_count": 21,
   "id": "5262c10e",
   "metadata": {},
   "outputs": [
    {
     "data": {
      "text/html": [
       "<div>\n",
       "<style scoped>\n",
       "    .dataframe tbody tr th:only-of-type {\n",
       "        vertical-align: middle;\n",
       "    }\n",
       "\n",
       "    .dataframe tbody tr th {\n",
       "        vertical-align: top;\n",
       "    }\n",
       "\n",
       "    .dataframe thead th {\n",
       "        text-align: right;\n",
       "    }\n",
       "</style>\n",
       "<table border=\"1\" class=\"dataframe\">\n",
       "  <thead>\n",
       "    <tr style=\"text-align: right;\">\n",
       "      <th></th>\n",
       "      <th>City</th>\n",
       "      <th>Total Revenue</th>\n",
       "    </tr>\n",
       "  </thead>\n",
       "  <tbody>\n",
       "    <tr>\n",
       "      <th>0</th>\n",
       "      <td>New York City</td>\n",
       "      <td>1.236028e+06</td>\n",
       "    </tr>\n",
       "    <tr>\n",
       "      <th>1</th>\n",
       "      <td>Los Angeles</td>\n",
       "      <td>8.487920e+05</td>\n",
       "    </tr>\n",
       "    <tr>\n",
       "      <th>2</th>\n",
       "      <td>Seattle</td>\n",
       "      <td>5.767935e+05</td>\n",
       "    </tr>\n",
       "    <tr>\n",
       "      <th>3</th>\n",
       "      <td>San Francisco</td>\n",
       "      <td>5.444505e+05</td>\n",
       "    </tr>\n",
       "    <tr>\n",
       "      <th>4</th>\n",
       "      <td>Philadelphia</td>\n",
       "      <td>5.262915e+05</td>\n",
       "    </tr>\n",
       "  </tbody>\n",
       "</table>\n",
       "</div>"
      ],
      "text/plain": [
       "            City  Total Revenue\n",
       "0  New York City   1.236028e+06\n",
       "1    Los Angeles   8.487920e+05\n",
       "2        Seattle   5.767935e+05\n",
       "3  San Francisco   5.444505e+05\n",
       "4   Philadelphia   5.262915e+05"
      ]
     },
     "metadata": {},
     "output_type": "display_data"
    },
    {
     "data": {
      "image/png": "[encoded data removed]",
      "text/plain": [
       "<Figure size 600x400 with 1 Axes>"
      ]
     },
     "metadata": {},
     "output_type": "display_data"
    }
   ],
   "source": [
    "query = \"\"\"\n",
    "SELECT City, SUM(sale_price) AS total_revenue\n",
    "FROM order_table\n",
    "GROUP BY City\n",
    "ORDER BY total_revenue DESC\n",
    "LIMIT 5;\n",
    "\"\"\"\n",
    "\n",
    "cur.execute(query)\n",
    "data = cur.fetchall()\n",
    "\n",
    "# Create DataFrame\n",
    "d = pd.DataFrame(data, columns=[\"City\", \"Total Revenue\"])\n",
    "\n",
    "# Display DataFrame\n",
    "display(d)\n",
    "\n",
    "# Plotting\n",
    "plt.figure(figsize=(6,4))\n",
    "plt.bar(d[\"City\"], d[\"Total Revenue\"], color=\"skyblue\")\n",
    "plt.title(\"Top 5 Cities by Revenue\")\n",
    "plt.xlabel(\"City\")\n",
    "plt.ylabel(\"Total Revenue\")\n",
    "plt.xticks(rotation=45)\n",
    "plt.tight_layout()\n",
    "plt.grid(axis='y', linestyle='--', alpha=0.7)\n",
    "plt.show()"
   ]
  },
  {
   "cell_type": "markdown",
   "id": "f0da8f7e",
   "metadata": {},
   "source": [
    "Identified the top 5 cities by total revenue using SQL and visualized the results with a bar chart to understand geographic revenue distribution.\n",
    "\n",
    "\n",
    "New York, Los Angeles, Chicago, Houston, and Philadelphia were the top 5 cities.\n"
   ]
  },
  {
   "cell_type": "markdown",
   "id": "e68a2e3e",
   "metadata": {},
   "source": [
    "## Visualization Questions "
   ]
  },
  {
   "cell_type": "markdown",
   "id": "8f47a512",
   "metadata": {},
   "source": [
    "1. What is the sales trend over time?"
   ]
  },
  {
   "cell_type": "code",
   "execution_count": null,
   "id": "0faa2664",
   "metadata": {},
   "outputs": [
    {
     "data": {
      "image/png": "[encoded data removed]",
      "text/plain": [
       "<Figure size 1500x500 with 1 Axes>"
      ]
     },
     "metadata": {},
     "output_type": "display_data"
    }
   ],
   "source": [
    "\n",
    "sales_trend = df.groupby(df['order_date'].dt.to_period('M'))['sale_price'].sum().reset_index()\n",
    "# display(sales_trend)  #2022-02\n",
    "sales_trend['order_date'] = sales_trend['order_date'].dt.to_timestamp()\n",
    "\n",
    "plt.figure(figsize=(15, 5))\n",
    "sns.lineplot(data=sales_trend, x='order_date', y='sale_price', marker='o')\n",
    "plt.title('Monthly Sales Trend')\n",
    "plt.xlabel('Month')\n",
    "plt.ylabel('Total Sales')\n",
    "plt.xticks(rotation=45)\n",
    "\n",
    "plt.show()\n",
    "# sales_trend"
   ]
  },
  {
   "cell_type": "markdown",
   "id": "b06da649",
   "metadata": {},
   "source": [
    "Generated a line plot to visualize monthly sales trends, helping reveal seasonal variations and growth patterns across the timeline.\n",
    "\n",
    "revenue trends over time, indicating periods of high and low sales activity."
   ]
  },
  {
   "cell_type": "markdown",
   "id": "72ed41e4",
   "metadata": {},
   "source": [
    "2. Which categories and sub-categories contribute most to the sales?"
   ]
  },
  {
   "cell_type": "code",
   "execution_count": null,
   "id": "27cfe85d",
   "metadata": {},
   "outputs": [
    {
     "data": {
      "image/png": "[encoded data removed]",
      "text/plain": [
       "<Figure size 1000x600 with 1 Axes>"
      ]
     },
     "metadata": {},
     "output_type": "display_data"
    },
    {
     "data": {
      "image/png": "[encoded data removed]",
      "text/plain": [
       "<Figure size 1200x800 with 1 Axes>"
      ]
     },
     "metadata": {},
     "output_type": "display_data"
    }
   ],
   "source": [
    "plt.figure(figsize=(10, 6))\n",
    "sns.barplot(data=df.groupby('category')['sale_price'].sum().reset_index().sort_values('sale_price', ascending=False),\n",
    "            x='sale_price', y='category')\n",
    "plt.title('Total Sales by Category')\n",
    "plt.xlabel('Sales')\n",
    "plt.ylabel('Category')\n",
    "plt.show()\n",
    "\n",
    "plt.figure(figsize=(12, 8))\n",
    "sns.barplot(data=df.groupby('sub_category')['sale_price'].sum().reset_index().sort_values('sale_price', ascending=False),\n",
    "            x='sale_price', y='sub_category')\n",
    "plt.title('Total Sales by Sub-Category')\n",
    "plt.xlabel('Sales')\n",
    "plt.ylabel('Sub-Category')\n",
    "plt.show()"
   ]
  },
  {
   "cell_type": "markdown",
   "id": "6f36917e",
   "metadata": {},
   "source": [
    "conclusion\n",
    "\n",
    "Based on the analysis and visualizations, we can draw the following conclusions:\n",
    "* in three of the categories, most of the orders were in technology category\n",
    "* furniture has moderate orders\n",
    "* office supplies category have least number of orders\n",
    "* in technology category, phoes sub category have the maximum number of orders, that means there more users of phones\n",
    "* in furniture category, chairs have 2nd most orders in sub categories"
   ]
  },
  {
   "cell_type": "code",
   "execution_count": null,
   "id": "c60e643d",
   "metadata": {},
   "outputs": [
    {
     "data": {
      "text/html": [
       "<div>\n",
       "<style scoped>\n",
       "    .dataframe tbody tr th:only-of-type {\n",
       "        vertical-align: middle;\n",
       "    }\n",
       "\n",
       "    .dataframe tbody tr th {\n",
       "        vertical-align: top;\n",
       "    }\n",
       "\n",
       "    .dataframe thead th {\n",
       "        text-align: right;\n",
       "    }\n",
       "</style>\n",
       "<table border=\"1\" class=\"dataframe\">\n",
       "  <thead>\n",
       "    <tr style=\"text-align: right;\">\n",
       "      <th></th>\n",
       "      <th>order_id</th>\n",
       "      <th>order_date</th>\n",
       "      <th>ship_mode</th>\n",
       "      <th>segment</th>\n",
       "      <th>country</th>\n",
       "      <th>city</th>\n",
       "      <th>state</th>\n",
       "      <th>postal_code</th>\n",
       "      <th>region</th>\n",
       "      <th>category</th>\n",
       "      <th>sub_category</th>\n",
       "      <th>product_id</th>\n",
       "      <th>quantity</th>\n",
       "      <th>discount</th>\n",
       "      <th>sale_price</th>\n",
       "      <th>profit</th>\n",
       "    </tr>\n",
       "  </thead>\n",
       "  <tbody>\n",
       "    <tr>\n",
       "      <th>0</th>\n",
       "      <td>1</td>\n",
       "      <td>2023-03-01</td>\n",
       "      <td>Second Class</td>\n",
       "      <td>Consumer</td>\n",
       "      <td>United States</td>\n",
       "      <td>Henderson</td>\n",
       "      <td>Kentucky</td>\n",
       "      <td>42420</td>\n",
       "      <td>South</td>\n",
       "      <td>Furniture</td>\n",
       "      <td>Bookcases</td>\n",
       "      <td>FUR-BO-10001798</td>\n",
       "      <td>2</td>\n",
       "      <td>5.2</td>\n",
       "      <td>254.8</td>\n",
       "      <td>14.8</td>\n",
       "    </tr>\n",
       "    <tr>\n",
       "      <th>1</th>\n",
       "      <td>2</td>\n",
       "      <td>2023-08-15</td>\n",
       "      <td>Second Class</td>\n",
       "      <td>Consumer</td>\n",
       "      <td>United States</td>\n",
       "      <td>Henderson</td>\n",
       "      <td>Kentucky</td>\n",
       "      <td>42420</td>\n",
       "      <td>South</td>\n",
       "      <td>Furniture</td>\n",
       "      <td>Chairs</td>\n",
       "      <td>FUR-CH-10000454</td>\n",
       "      <td>3</td>\n",
       "      <td>21.9</td>\n",
       "      <td>708.1</td>\n",
       "      <td>108.1</td>\n",
       "    </tr>\n",
       "    <tr>\n",
       "      <th>2</th>\n",
       "      <td>3</td>\n",
       "      <td>2023-01-10</td>\n",
       "      <td>Second Class</td>\n",
       "      <td>Corporate</td>\n",
       "      <td>United States</td>\n",
       "      <td>Los Angeles</td>\n",
       "      <td>California</td>\n",
       "      <td>90036</td>\n",
       "      <td>West</td>\n",
       "      <td>Office Supplies</td>\n",
       "      <td>Labels</td>\n",
       "      <td>OFF-LA-10000240</td>\n",
       "      <td>2</td>\n",
       "      <td>0.5</td>\n",
       "      <td>9.5</td>\n",
       "      <td>-0.5</td>\n",
       "    </tr>\n",
       "    <tr>\n",
       "      <th>3</th>\n",
       "      <td>4</td>\n",
       "      <td>2022-06-18</td>\n",
       "      <td>Standard Class</td>\n",
       "      <td>Consumer</td>\n",
       "      <td>United States</td>\n",
       "      <td>Fort Lauderdale</td>\n",
       "      <td>Florida</td>\n",
       "      <td>33311</td>\n",
       "      <td>South</td>\n",
       "      <td>Furniture</td>\n",
       "      <td>Tables</td>\n",
       "      <td>FUR-TA-10000577</td>\n",
       "      <td>5</td>\n",
       "      <td>19.2</td>\n",
       "      <td>940.8</td>\n",
       "      <td>160.8</td>\n",
       "    </tr>\n",
       "    <tr>\n",
       "      <th>4</th>\n",
       "      <td>5</td>\n",
       "      <td>2022-07-13</td>\n",
       "      <td>Standard Class</td>\n",
       "      <td>Consumer</td>\n",
       "      <td>United States</td>\n",
       "      <td>Fort Lauderdale</td>\n",
       "      <td>Florida</td>\n",
       "      <td>33311</td>\n",
       "      <td>South</td>\n",
       "      <td>Office Supplies</td>\n",
       "      <td>Storage</td>\n",
       "      <td>OFF-ST-10000760</td>\n",
       "      <td>2</td>\n",
       "      <td>1.0</td>\n",
       "      <td>19.0</td>\n",
       "      <td>-1.0</td>\n",
       "    </tr>\n",
       "    <tr>\n",
       "      <th>...</th>\n",
       "      <td>...</td>\n",
       "      <td>...</td>\n",
       "      <td>...</td>\n",
       "      <td>...</td>\n",
       "      <td>...</td>\n",
       "      <td>...</td>\n",
       "      <td>...</td>\n",
       "      <td>...</td>\n",
       "      <td>...</td>\n",
       "      <td>...</td>\n",
       "      <td>...</td>\n",
       "      <td>...</td>\n",
       "      <td>...</td>\n",
       "      <td>...</td>\n",
       "      <td>...</td>\n",
       "      <td>...</td>\n",
       "    </tr>\n",
       "    <tr>\n",
       "      <th>9989</th>\n",
       "      <td>9990</td>\n",
       "      <td>2023-02-18</td>\n",
       "      <td>Second Class</td>\n",
       "      <td>Consumer</td>\n",
       "      <td>United States</td>\n",
       "      <td>Miami</td>\n",
       "      <td>Florida</td>\n",
       "      <td>33180</td>\n",
       "      <td>South</td>\n",
       "      <td>Furniture</td>\n",
       "      <td>Furnishings</td>\n",
       "      <td>FUR-FU-10001889</td>\n",
       "      <td>3</td>\n",
       "      <td>1.2</td>\n",
       "      <td>28.8</td>\n",
       "      <td>-1.2</td>\n",
       "    </tr>\n",
       "    <tr>\n",
       "      <th>9990</th>\n",
       "      <td>9991</td>\n",
       "      <td>2023-03-17</td>\n",
       "      <td>Standard Class</td>\n",
       "      <td>Consumer</td>\n",
       "      <td>United States</td>\n",
       "      <td>Costa Mesa</td>\n",
       "      <td>California</td>\n",
       "      <td>92627</td>\n",
       "      <td>West</td>\n",
       "      <td>Furniture</td>\n",
       "      <td>Furnishings</td>\n",
       "      <td>FUR-FU-10000747</td>\n",
       "      <td>2</td>\n",
       "      <td>3.6</td>\n",
       "      <td>86.4</td>\n",
       "      <td>16.4</td>\n",
       "    </tr>\n",
       "    <tr>\n",
       "      <th>9991</th>\n",
       "      <td>9992</td>\n",
       "      <td>2022-08-07</td>\n",
       "      <td>Standard Class</td>\n",
       "      <td>Consumer</td>\n",
       "      <td>United States</td>\n",
       "      <td>Costa Mesa</td>\n",
       "      <td>California</td>\n",
       "      <td>92627</td>\n",
       "      <td>West</td>\n",
       "      <td>Technology</td>\n",
       "      <td>Phones</td>\n",
       "      <td>TEC-PH-10003645</td>\n",
       "      <td>2</td>\n",
       "      <td>5.2</td>\n",
       "      <td>254.8</td>\n",
       "      <td>34.8</td>\n",
       "    </tr>\n",
       "    <tr>\n",
       "      <th>9992</th>\n",
       "      <td>9993</td>\n",
       "      <td>2022-11-19</td>\n",
       "      <td>Standard Class</td>\n",
       "      <td>Consumer</td>\n",
       "      <td>United States</td>\n",
       "      <td>Costa Mesa</td>\n",
       "      <td>California</td>\n",
       "      <td>92627</td>\n",
       "      <td>West</td>\n",
       "      <td>Office Supplies</td>\n",
       "      <td>Paper</td>\n",
       "      <td>OFF-PA-10004041</td>\n",
       "      <td>4</td>\n",
       "      <td>0.9</td>\n",
       "      <td>29.1</td>\n",
       "      <td>-0.9</td>\n",
       "    </tr>\n",
       "    <tr>\n",
       "      <th>9993</th>\n",
       "      <td>9994</td>\n",
       "      <td>2022-07-17</td>\n",
       "      <td>Second Class</td>\n",
       "      <td>Consumer</td>\n",
       "      <td>United States</td>\n",
       "      <td>Westminster</td>\n",
       "      <td>California</td>\n",
       "      <td>92683</td>\n",
       "      <td>West</td>\n",
       "      <td>Office Supplies</td>\n",
       "      <td>Appliances</td>\n",
       "      <td>OFF-AP-10002684</td>\n",
       "      <td>2</td>\n",
       "      <td>7.2</td>\n",
       "      <td>232.8</td>\n",
       "      <td>22.8</td>\n",
       "    </tr>\n",
       "  </tbody>\n",
       "</table>\n",
       "<p>9994 rows × 16 columns</p>\n",
       "</div>"
      ],
      "text/plain": [
       "      order_id order_date       ship_mode    segment        country  \\\n",
       "0            1 2023-03-01    Second Class   Consumer  United States   \n",
       "1            2 2023-08-15    Second Class   Consumer  United States   \n",
       "2            3 2023-01-10    Second Class  Corporate  United States   \n",
       "3            4 2022-06-18  Standard Class   Consumer  United States   \n",
       "4            5 2022-07-13  Standard Class   Consumer  United States   \n",
       "...        ...        ...             ...        ...            ...   \n",
       "9989      9990 2023-02-18    Second Class   Consumer  United States   \n",
       "9990      9991 2023-03-17  Standard Class   Consumer  United States   \n",
       "9991      9992 2022-08-07  Standard Class   Consumer  United States   \n",
       "9992      9993 2022-11-19  Standard Class   Consumer  United States   \n",
       "9993      9994 2022-07-17    Second Class   Consumer  United States   \n",
       "\n",
       "                 city       state  postal_code region         category  \\\n",
       "0           Henderson    Kentucky        42420  South        Furniture   \n",
       "1           Henderson    Kentucky        42420  South        Furniture   \n",
       "2         Los Angeles  California        90036   West  Office Supplies   \n",
       "3     Fort Lauderdale     Florida        33311  South        Furniture   \n",
       "4     Fort Lauderdale     Florida        33311  South  Office Supplies   \n",
       "...               ...         ...          ...    ...              ...   \n",
       "9989            Miami     Florida        33180  South        Furniture   \n",
       "9990       Costa Mesa  California        92627   West        Furniture   \n",
       "9991       Costa Mesa  California        92627   West       Technology   \n",
       "9992       Costa Mesa  California        92627   West  Office Supplies   \n",
       "9993      Westminster  California        92683   West  Office Supplies   \n",
       "\n",
       "     sub_category       product_id  quantity  discount  sale_price  profit  \n",
       "0       Bookcases  FUR-BO-10001798         2       5.2       254.8    14.8  \n",
       "1          Chairs  FUR-CH-10000454         3      21.9       708.1   108.1  \n",
       "2          Labels  OFF-LA-10000240         2       0.5         9.5    -0.5  \n",
       "3          Tables  FUR-TA-10000577         5      19.2       940.8   160.8  \n",
       "4         Storage  OFF-ST-10000760         2       1.0        19.0    -1.0  \n",
       "...           ...              ...       ...       ...         ...     ...  \n",
       "9989  Furnishings  FUR-FU-10001889         3       1.2        28.8    -1.2  \n",
       "9990  Furnishings  FUR-FU-10000747         2       3.6        86.4    16.4  \n",
       "9991       Phones  TEC-PH-10003645         2       5.2       254.8    34.8  \n",
       "9992        Paper  OFF-PA-10004041         4       0.9        29.1    -0.9  \n",
       "9993   Appliances  OFF-AP-10002684         2       7.2       232.8    22.8  \n",
       "\n",
       "[9994 rows x 16 columns]"
      ]
     },
     "execution_count": 40,
     "metadata": {},
     "output_type": "execute_result"
    }
   ],
   "source": [
    "df"
   ]
  },
  {
   "cell_type": "markdown",
   "id": "bd362f81",
   "metadata": {},
   "source": [
    "3. How is profit distributed across different regions?"
   ]
  },
  {
   "cell_type": "code",
   "execution_count": null,
   "id": "4042f5e6",
   "metadata": {},
   "outputs": [
    {
     "data": {
      "image/png": "[encoded data removed]",
      "text/plain": [
       "<Figure size 1000x600 with 1 Axes>"
      ]
     },
     "metadata": {},
     "output_type": "display_data"
    }
   ],
   "source": [
    "plt.figure(figsize=(10, 6))\n",
    "sns.boxplot(data=df, x='region', y='profit')\n",
    "plt.title('Profit Distribution by Region')\n",
    "plt.xlabel('Region')\n",
    "plt.ylabel('Profit')\n",
    "plt.show()\n"
   ]
  },
  {
   "cell_type": "markdown",
   "id": "c4e38950",
   "metadata": {},
   "source": [
    "Used a box plot to visualize the distribution of profit across different regions, helping identify regions with high variability or outliers in profitability.\n",
    "\n",
    "Results showed that the West region had the highest median profit, while the South region exhibited significant variability with several outliers."
   ]
  },
  {
   "cell_type": "markdown",
   "id": "7ec7bb7a",
   "metadata": {},
   "source": [
    "4. What are the top 10 cities by total sales?"
   ]
  },
  {
   "cell_type": "code",
   "execution_count": null,
   "id": "10efb1d1",
   "metadata": {},
   "outputs": [
    {
     "data": {
      "image/png": "[encoded data removed]",
      "text/plain": [
       "<Figure size 1200x600 with 1 Axes>"
      ]
     },
     "metadata": {},
     "output_type": "display_data"
    },
    {
     "data": {
      "text/html": [
       "<div>\n",
       "<style scoped>\n",
       "    .dataframe tbody tr th:only-of-type {\n",
       "        vertical-align: middle;\n",
       "    }\n",
       "\n",
       "    .dataframe tbody tr th {\n",
       "        vertical-align: top;\n",
       "    }\n",
       "\n",
       "    .dataframe thead th {\n",
       "        text-align: right;\n",
       "    }\n",
       "</style>\n",
       "<table border=\"1\" class=\"dataframe\">\n",
       "  <thead>\n",
       "    <tr style=\"text-align: right;\">\n",
       "      <th></th>\n",
       "      <th>city</th>\n",
       "      <th>sale_price</th>\n",
       "    </tr>\n",
       "  </thead>\n",
       "  <tbody>\n",
       "    <tr>\n",
       "      <th>0</th>\n",
       "      <td>New York City</td>\n",
       "      <td>247205.7</td>\n",
       "    </tr>\n",
       "    <tr>\n",
       "      <th>1</th>\n",
       "      <td>Los Angeles</td>\n",
       "      <td>169758.4</td>\n",
       "    </tr>\n",
       "    <tr>\n",
       "      <th>2</th>\n",
       "      <td>Seattle</td>\n",
       "      <td>115358.7</td>\n",
       "    </tr>\n",
       "    <tr>\n",
       "      <th>3</th>\n",
       "      <td>San Francisco</td>\n",
       "      <td>108890.1</td>\n",
       "    </tr>\n",
       "    <tr>\n",
       "      <th>4</th>\n",
       "      <td>Philadelphia</td>\n",
       "      <td>105258.3</td>\n",
       "    </tr>\n",
       "    <tr>\n",
       "      <th>5</th>\n",
       "      <td>Houston</td>\n",
       "      <td>62259.4</td>\n",
       "    </tr>\n",
       "    <tr>\n",
       "      <th>6</th>\n",
       "      <td>Chicago</td>\n",
       "      <td>46743.4</td>\n",
       "    </tr>\n",
       "    <tr>\n",
       "      <th>7</th>\n",
       "      <td>San Diego</td>\n",
       "      <td>45641.9</td>\n",
       "    </tr>\n",
       "    <tr>\n",
       "      <th>8</th>\n",
       "      <td>Jacksonville</td>\n",
       "      <td>43038.6</td>\n",
       "    </tr>\n",
       "    <tr>\n",
       "      <th>9</th>\n",
       "      <td>Springfield</td>\n",
       "      <td>41665.5</td>\n",
       "    </tr>\n",
       "  </tbody>\n",
       "</table>\n",
       "</div>"
      ],
      "text/plain": [
       "            city  sale_price\n",
       "0  New York City    247205.7\n",
       "1    Los Angeles    169758.4\n",
       "2        Seattle    115358.7\n",
       "3  San Francisco    108890.1\n",
       "4   Philadelphia    105258.3\n",
       "5        Houston     62259.4\n",
       "6        Chicago     46743.4\n",
       "7      San Diego     45641.9\n",
       "8   Jacksonville     43038.6\n",
       "9    Springfield     41665.5"
      ]
     },
     "execution_count": 41,
     "metadata": {},
     "output_type": "execute_result"
    }
   ],
   "source": [
    "top_cities = df.groupby('city')['sale_price'].sum().nlargest(10).reset_index()\n",
    "\n",
    "plt.figure(figsize=(12, 6))\n",
    "sns.barplot(data=top_cities, x='sale_price', y='city')\n",
    "plt.title('Top 10 Cities by Total Sales')\n",
    "plt.xlabel('Sales')\n",
    "plt.ylabel('City')\n",
    "plt.show()\n",
    "top_cities"
   ]
  },
  {
   "cell_type": "markdown",
   "id": "42d59a9c",
   "metadata": {},
   "source": [
    " Identified and visualized the top 10 cities contributing most to overall sales. This is useful for targeting high-performing locations."
   ]
  },
  {
   "cell_type": "markdown",
   "id": "a3fd015b",
   "metadata": {},
   "source": [
    "6. Count of Orders by Shipping Mode"
   ]
  },
  {
   "cell_type": "code",
   "execution_count": null,
   "id": "43fb67be",
   "metadata": {},
   "outputs": [
    {
     "name": "stderr",
     "output_type": "stream",
     "text": [
      "C:\\Users\\drish\\AppData\\Local\\Temp\\ipykernel_21536\\2665857562.py:2: FutureWarning: \n",
      "\n",
      "Passing `palette` without assigning `hue` is deprecated and will be removed in v0.14.0. Assign the `x` variable to `hue` and set `legend=False` for the same effect.\n",
      "\n",
      "  sns.countplot(data=df, x='ship_mode', palette='pastel')\n"
     ]
    },
    {
     "data": {
      "image/png": "[encoded data removed]",
      "text/plain": [
       "<Figure size 800x500 with 1 Axes>"
      ]
     },
     "metadata": {},
     "output_type": "display_data"
    }
   ],
   "source": [
    "plt.figure(figsize=(8, 5))\n",
    "sns.countplot(data=df, x='ship_mode', palette='pastel')\n",
    "plt.title('Count of Orders by Ship Mode')\n",
    "plt.xlabel('Shipping Mode')\n",
    "plt.ylabel('Number of Orders')\n",
    "plt.xticks(rotation=45)\n",
    "plt.show()\n"
   ]
  },
  {
   "cell_type": "markdown",
   "id": "fdfe8145",
   "metadata": {},
   "source": [
    "retrieved the count of orders by shipping mode to understand customer preferences for shipping options. This can inform logistics and marketing strategies."
   ]
  },
  {
   "cell_type": "markdown",
   "id": "a77847c8",
   "metadata": {},
   "source": [
    "8. Distribution of Sales Price"
   ]
  },
  {
   "cell_type": "code",
   "execution_count": null,
   "id": "5eb51a1d",
   "metadata": {},
   "outputs": [
    {
     "data": {
      "image/png": "[encoded data removed]",
      "text/plain": [
       "<Figure size 800x500 with 1 Axes>"
      ]
     },
     "metadata": {},
     "output_type": "display_data"
    }
   ],
   "source": [
    "plt.figure(figsize=(8, 5))\n",
    "sns.histplot(data=df, x='sale_price', bins=30, kde=True, color='skyblue')\n",
    "plt.title('Distribution of Sale Price')\n",
    "plt.xlabel('Sale Price')\n",
    "plt.ylabel('Frequency')\n",
    "plt.show()"
   ]
  },
  {
   "cell_type": "markdown",
   "id": "08e94124",
   "metadata": {},
   "source": [
    "results showed that the most common shipping mode was Standard Class, followed by Second Class and First Class. The least common was Same Day shipping."
   ]
  },
  {
   "cell_type": "markdown",
   "id": "642124f8",
   "metadata": {},
   "source": [
    "Pie Chart of Sales by Region"
   ]
  },
  {
   "cell_type": "code",
   "execution_count": null,
   "id": "70907eb5",
   "metadata": {},
   "outputs": [
    {
     "data": {
      "image/png": "[encoded data removed]",
      "text/plain": [
       "<Figure size 600x600 with 1 Axes>"
      ]
     },
     "metadata": {},
     "output_type": "display_data"
    }
   ],
   "source": [
    "region_sales = df.groupby('region')['sale_price'].sum()\n",
    "\n",
    "plt.figure(figsize=(6, 6))\n",
    "plt.pie(region_sales, labels=region_sales.index, autopct='%1.1f%%', startangle=140, colors=sns.color_palette('pastel'))\n",
    "plt.title('Sales Distribution by Region')\n",
    "plt.axis('equal')\n",
    "plt.show()\n"
   ]
  },
  {
   "cell_type": "markdown",
   "id": "472f3995",
   "metadata": {},
   "source": [
    "a pie chart to visualize the distribution of sales by region, providing a clear view of regional performance. regions were evenly distributed, with the West region having the highest sales."
   ]
  },
  {
   "cell_type": "markdown",
   "id": "e89b2660",
   "metadata": {},
   "source": [
    "Correlation Heatmap"
   ]
  },
  {
   "cell_type": "code",
   "execution_count": null,
   "id": "a683df21",
   "metadata": {},
   "outputs": [
    {
     "data": {
      "image/png": "[encoded data removed]",
      "text/plain": [
       "<Figure size 800x600 with 2 Axes>"
      ]
     },
     "metadata": {},
     "output_type": "display_data"
    }
   ],
   "source": [
    "plt.figure(figsize=(8, 6))\n",
    "sns.heatmap(df[['quantity', 'discount', 'sale_price', 'profit']].corr(), annot=True, cmap='coolwarm', fmt='.2f')\n",
    "plt.title('Correlation Heatmap')\n",
    "plt.show()\n"
   ]
  },
  {
   "cell_type": "markdown",
   "id": "996b4fbd",
   "metadata": {},
   "source": [
    "correlation heatmap to visualize relationships between different numerical variables in the dataset. This helps identify potential correlations and patterns in the data. \n",
    "\n",
    "positive correlation between sales and profit, indicating that higher sales generally lead to higher profits.\n",
    "\n"
   ]
  },
  {
   "cell_type": "markdown",
   "id": "f2c24402",
   "metadata": {},
   "source": [
    "# Conclusion\n",
    "The analysis of the retail orders dataset provided valuable insights into sales trends, customer preferences, and regional performance. Key findings include:\n",
    "* The overall sales trend showed consistent growth over time, with certain months experiencing spikes in sales.\n",
    "* The top 5 cities contributing to sales were New York, Los Angeles, Chicago, Houston, and Philadelphia.\n",
    "* Standard Class was the most common shipping mode, indicating customer preference for this option.\n",
    "* The West region had the highest sales, while the South region showed variability in profit.\n",
    "* A positive correlation was found between sales and profit, suggesting that higher sales generally lead to higher profits."
   ]
  },
  {
   "cell_type": "code",
   "execution_count": null,
   "id": "ad103ef6",
   "metadata": {},
   "outputs": [],
   "source": []
  },
  {
   "cell_type": "code",
   "execution_count": null,
   "id": "7ae536e0",
   "metadata": {},
   "outputs": [],
   "source": [
    "# Bar plot of total sales by product category\n",
    "plt.figure(figsize=(10, 6))\n",
    "sales_by_category = df.groupby('product_category')['total_sales'].sum().sort_values(ascending=False)\n",
    "sns.barplot(x=sales_by_category.index, y=sales_by_category.values, palette='viridis')\n",
    "plt.xticks(rotation=45)\n",
    "plt.title('Total Sales by Product Category')\n",
    "plt.xlabel('Product Category')\n",
    "plt.ylabel('Total Sales')\n",
    "plt.tight_layout()\n",
    "plt.show()"
   ]
  },
  {
   "cell_type": "markdown",
   "id": "90c54fb7",
   "metadata": {},
   "source": [
    "### 📌 Conclusion\n",
    "\n",
    "- The dataset has been successfully cleaned and analyzed.\n",
    "- Total sales were computed for each product category.\n",
    "- A bar chart visualizes which categories perform best.\n",
    "- This project demonstrates integration of Excel data, data cleaning with pandas, and visualization using matplotlib/seaborn."
   ]
  }
 ],
 "metadata": {
  "kernelspec": {
   "display_name": "Python 3",
   "language": "python",
   "name": "python3"
  },
  "language_info": {
   "codemirror_mode": {
    "name": "ipython",
    "version": 3
   },
   "file_extension": ".py",
   "mimetype": "text/x-python",
   "name": "python",
   "nbconvert_exporter": "python",
   "pygments_lexer": "ipython3",
   "version": "3.10.1"
  }
 },
 "nbformat": 4,
 "nbformat_minor": 5
}
